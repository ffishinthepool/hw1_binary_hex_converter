{
  "nbformat": 4,
  "nbformat_minor": 0,
  "metadata": {
    "colab": {
      "provenance": [],
      "authorship_tag": "ABX9TyOFuPVtJIE3z78UwB+wf+ep",
      "include_colab_link": true
    },
    "kernelspec": {
      "name": "python3",
      "display_name": "Python 3"
    },
    "language_info": {
      "name": "python"
    }
  },
  "cells": [
    {
      "cell_type": "markdown",
      "metadata": {
        "id": "view-in-github",
        "colab_type": "text"
      },
      "source": [
        "<a href=\"https://colab.research.google.com/github/ffishinthepool/hw1_binary_hex_converter/blob/main/%E5%9F%BA%E7%A4%8E%E8%B3%87%E6%96%99%E7%B5%90%E6%A7%8B%E8%88%87%E6%BC%94%E7%AE%97%E6%B3%95%E4%BD%9C%E6%A5%AD%E4%B8%80test.ipynb\" target=\"_parent\"><img src=\"https://colab.research.google.com/assets/colab-badge.svg\" alt=\"Open In Colab\"/></a>"
      ]
    },
    {
      "cell_type": "code",
      "execution_count": null,
      "metadata": {
        "colab": {
          "base_uri": "https://localhost:8080/"
        },
        "id": "DYu0DGqs2CTm",
        "outputId": "1131a27a-6e1a-45a2-c328-eb0c1d55a125"
      },
      "outputs": [
        {
          "output_type": "stream",
          "name": "stdout",
          "text": [
            "請輸入一個0~255的十進位整數：234\n",
            "此數用二進位制表示為：11101010\n",
            "此數用十六進位制表示為：EA\n"
          ]
        }
      ],
      "source": [
        "\"\"\"請使用者輸入數字\"\"\"\n",
        "number_10 = int(input(\"請輸入一個0~255的十進位整數：\"))\n",
        "\n",
        "\n",
        "\"\"\" 因為範圍限定在因為範圍限定在0~255 (<2的的8次方），所以從2的7次方開始。\n",
        "    divisor : 除數 \"\"\"\n",
        "\n",
        "\"\"\"十六進位制使用\n",
        "最後等於十進位制的0~15，用於轉換成 十六進位的數字 \"\"\"\n",
        "number_16_1 = 0\n",
        "number_16_2 = 0\n",
        "\n",
        "\n",
        "\"\"\"二進位制\"\"\"\n",
        "print( \"此數用二進位制表示為：\", end=\"\")\n",
        "\n",
        "for n in range (7,-1,-1):                   # n = 7, 6, 5, ..., 0 ＝ 2的次方數\n",
        "    divisor = 2 ** n                        # 2的n次方\n",
        " \n",
        "    print( number_10 // divisor, end=\"\" )   # 取整除的商數( =1或0 )\n",
        "\n",
        "    \"\"\"十六進位制使用\"\"\"\n",
        "    if ( number_10 // divisor == 1 ):       # 四個「2進位bits」為一組中，根據數字= 1的位置，number_16_1 加上 2的3/2/1/0次方\n",
        "        if ( n >= 4 ):                      # 算「2的7次方～2的4次方」的四個「2進位bits」\n",
        "            number_16_1 += 2 ** (n-4)\n",
        "        else:                               # (n < 4)\n",
        "            number_16_2 += 2 ** n           # 算「2的3次方～2的0次方」的四個「2進位bits」\n",
        "\n",
        "    \"\"\"二進位制使用\"\"\"\n",
        "    if ( number_10 >= divisor ):            # 避免被減到變成負數\n",
        "        number_10 = number_10 - divisor     # 輸入數字 - 2的n次方 = 下一次迴圈的新數字\n",
        "\n",
        "print()\n",
        "\n",
        "\n",
        "\n",
        "\"\"\"十六進位制\"\"\"\n",
        "print( \"此數用十六進位制表示為：\", end=\"\" )\n",
        "\n",
        "\n",
        "\"\"\"十六進位制第一個（前面的）數字\"\"\"\n",
        "if number_16_1 == 10:                       # number_16_1 指十六進位第一個數字（十進位制表示）\n",
        "\t  hex_1 = \"A\"                             # hex_1 指十六進位第一個數字（十六進位制表示）\n",
        "elif number_16_1 == 11:\n",
        "\t  hex_1 = \"B\"\n",
        "elif number_16_1 == 12:\n",
        "\t  hex_1 = \"C\"\n",
        "elif number_16_1 == 13:\n",
        "\t  hex_1 = \"D\"\n",
        "elif number_16_1 == 14:\n",
        "\t  hex_1 = \"E\"\n",
        "elif number_16_1 == 15:                    \n",
        "\t  hex_1 = \"F\"\n",
        "else:                                       # 當 number_16_1 = 0 時\n",
        "    hex_1 = 0\n",
        "\n",
        "\"\"\"十六進位制第二個（後面的）數字\"\"\"\n",
        "if number_16_2 == 10:                       # number_16_1 指十六進位第二個數字（十進位制表示）\n",
        "\t  hex_2 = \"A\"                             # hex_1 指十六進位第二個數字（十六進位制表示）\n",
        "elif number_16_2 == 11:\n",
        "\t  hex_2 = \"B\"\n",
        "elif number_16_2 == 12:\n",
        "\t  hex_2 = \"C\"\n",
        "elif number_16_2 == 13:\n",
        "\t  hex_2 = \"D\"\n",
        "elif number_16_2 == 14:\n",
        "\t  hex_2 = \"E\"\n",
        "elif number_16_2 == 15:\n",
        "\t  hex_2 = \"F\"\n",
        "else:                                       # 當 number_16_2 = 0 時\n",
        "    hex_2 = 0\n",
        "\n",
        "\n",
        "print( hex_1, hex_2, sep=\"\" ) \n",
        "\n"
      ]
    }
  ]
}